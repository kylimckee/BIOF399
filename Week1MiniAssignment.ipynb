{
 "cells": [
  {
   "cell_type": "code",
   "execution_count": 1,
   "id": "smaller-chambers",
   "metadata": {},
   "outputs": [],
   "source": [
    "##Week One Mini Assignment"
   ]
  },
  {
   "cell_type": "code",
   "execution_count": 2,
   "id": "reported-registration",
   "metadata": {},
   "outputs": [
    {
     "name": "stdout",
     "output_type": "stream",
     "text": [
      "I am so excited to be taking BIOF399!\n"
     ]
    }
   ],
   "source": [
    "#Print in Python\n",
    "print(\"I am so excited to be taking BIOF399!\")"
   ]
  },
  {
   "cell_type": "code",
   "execution_count": 3,
   "id": "exempt-elephant",
   "metadata": {},
   "outputs": [
    {
     "data": {
      "text/plain": [
       "4"
      ]
     },
     "execution_count": 3,
     "metadata": {},
     "output_type": "execute_result"
    }
   ],
   "source": [
    "#Perform addition\n",
    "2+2"
   ]
  },
  {
   "cell_type": "code",
   "execution_count": 4,
   "id": "finite-domestic",
   "metadata": {},
   "outputs": [
    {
     "data": {
      "text/plain": [
       "6"
      ]
     },
     "execution_count": 4,
     "metadata": {},
     "output_type": "execute_result"
    }
   ],
   "source": [
    "#Define a variable\n",
    "number=2\n",
    "number*3"
   ]
  },
  {
   "cell_type": "code",
   "execution_count": 5,
   "id": "active-accused",
   "metadata": {},
   "outputs": [],
   "source": [
    "#Import packages\n",
    "import pandas as pd"
   ]
  },
  {
   "cell_type": "code",
   "execution_count": 6,
   "id": "listed-rhythm",
   "metadata": {},
   "outputs": [],
   "source": [
    "#Make a list\n",
    "my_list=[2,4,6,8,10,12,14]"
   ]
  },
  {
   "cell_type": "code",
   "execution_count": 7,
   "id": "proprietary-ceiling",
   "metadata": {},
   "outputs": [],
   "source": [
    "#Convert list into a pandas series\n",
    "new_series=pd.Series(my_list)"
   ]
  },
  {
   "cell_type": "code",
   "execution_count": 8,
   "id": "earned-notice",
   "metadata": {},
   "outputs": [
    {
     "name": "stdout",
     "output_type": "stream",
     "text": [
      "Sum: 56\n",
      "Min: 2\n",
      "Max: 14\n",
      "Median: 8.0\n",
      "Standard Deviation: 4.320493798938574\n"
     ]
    }
   ],
   "source": [
    "#Convert list into a pandas series\n",
    "print(\"Sum:\", new_series.sum())\n",
    "print(\"Min:\", new_series.min())\n",
    "print(\"Max:\", new_series.max())\n",
    "print(\"Median:\", new_series.median())\n",
    "print(\"Standard Deviation:\", new_series.std())"
   ]
  },
  {
   "cell_type": "code",
   "execution_count": null,
   "id": "closed-tonight",
   "metadata": {},
   "outputs": [],
   "source": []
  }
 ],
 "metadata": {
  "kernelspec": {
   "display_name": "Python 3",
   "language": "python",
   "name": "python3"
  },
  "language_info": {
   "codemirror_mode": {
    "name": "ipython",
    "version": 3
   },
   "file_extension": ".py",
   "mimetype": "text/x-python",
   "name": "python",
   "nbconvert_exporter": "python",
   "pygments_lexer": "ipython3",
   "version": "3.7.8"
  }
 },
 "nbformat": 4,
 "nbformat_minor": 5
}
